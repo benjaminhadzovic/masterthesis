{
 "cells": [
  {
   "cell_type": "markdown",
   "id": "changing-country",
   "metadata": {},
   "source": [
    "# Template Data Analysis Workflow - Visualization and kinetic modeling of enzymatic data"
   ]
  },
  {
   "cell_type": "markdown",
   "id": "furnished-conditions",
   "metadata": {},
   "source": [
    "### Imports\n",
    "Import packages needed for data analysis"
   ]
  },
  {
   "cell_type": "code",
   "execution_count": 3,
   "id": "selective-galaxy",
   "metadata": {},
   "outputs": [],
   "source": [
    "import matplotlib.pyplot as plt\n",
    "import seaborn as sns \n",
    "import pandas as pd \n",
    "import numpy as np \n",
    "\n",
    "from scipy.integrate import odeint \n",
    "from lmfit import minimize, Parameters, Parameter, report_fit \n",
    "from pyenzyme import EnzymeMLDocument "
   ]
  },
  {
   "cell_type": "markdown",
   "id": "infinite-invention",
   "metadata": {},
   "source": [
    "## Select EnzymeML document\n",
    "Select the EnzymeML document, by changing the path variable accodingly. <br>\n",
    "The EnzymeML document will be stored in the enzmldoc variable. <br>"
   ]
  },
  {
   "cell_type": "code",
   "execution_count": null,
   "id": "demographic-corporation",
   "metadata": {},
   "outputs": [],
   "source": [
    "# If the document is a EnzymeML document \n",
    "#enzmldoc = EnzymeMLDocument.fromFile('path_to.omex')\n",
    "\n",
    "# If the document is from a spreadsheet \n",
    "#enzmldoc = EnzymeMLDocument.fromTemplate('path_to.xlsx')"
   ]
  },
  {
   "cell_type": "markdown",
   "id": "17ef3fb7",
   "metadata": {},
   "source": [
    "## Print the Document to get a first overview"
   ]
  },
  {
   "cell_type": "markdown",
   "id": "97a82e96",
   "metadata": {},
   "source": [
    "To get a first overview of the experiment. Information like IDs from reactants are printed."
   ]
  },
  {
   "cell_type": "code",
   "execution_count": null,
   "id": "61500300",
   "metadata": {},
   "outputs": [],
   "source": [
    "# With measurements=True in parenthesis we can also print out the initial concentrations \n",
    "enzmldoc.printDocument()"
   ]
  },
  {
   "cell_type": "markdown",
   "id": "fitted-milwaukee",
   "metadata": {},
   "source": [
    "## Visualization of time-course data\n",
    "A short visualisation to get a first impression of the data. <br>"
   ]
  },
  {
   "cell_type": "code",
   "execution_count": null,
   "id": "clean-studio",
   "metadata": {},
   "outputs": [],
   "source": [
    "#basic/general settings for Seaborn\n",
    "sns.set_theme(style='whitegrid', palette ='bright',color_codes=True, context = 'notebook')\n",
    "\n",
    "enzmldoc.visualize(use_names=True)"
   ]
  },
  {
   "cell_type": "markdown",
   "id": "32e65e6c",
   "metadata": {},
   "source": [
    "## Prepare the data for modeling"
   ]
  },
  {
   "cell_type": "markdown",
   "id": "f29f3cb7",
   "metadata": {},
   "source": [
    "Which Reactant should be modeled? This information can be seen in the output of printDocument()"
   ]
  },
  {
   "cell_type": "code",
   "execution_count": null,
   "id": "406ebfe9",
   "metadata": {},
   "outputs": [],
   "source": [
    "reactant_id = 's0'\n",
    "\n",
    "# Check if reactant_id is present\n",
    "if reactant_id not in enzmldoc.getSpeciesIDs():\n",
    "    print('Species not present')\n",
    "    \n",
    "# Exports species specific measurement data (dictionary)\n",
    "measurement_data = enzmldoc.exportMeasurementData(species_ids=reactant_id)\n",
    "\n",
    "# Concatenate data to a single DataFrame\n",
    "measurement_data = pd.concat([meas[\"data\"] for meas in measurement_data.values()])\n",
    "\n",
    "# Separate time and actual values to ndarrays\n",
    "# Reshape to match measurements\n",
    "time = measurement_data.time.values.reshape(-1, len(measurement_data.time.values)) # \"-1\" because it's an unknown dimension and we want numpy to figure it out\n",
    "measurement_data = measurement_data[reactant_id].values.reshape(-1, len(measurement_data[reactant_id].values))#[0, :] # -> converts 2D array to 1D  \n",
    "\n",
    "#print(f\"Shape of data: {measurement_data.shape}\\nShape of time: {time.shape}\")"
   ]
  },
  {
   "cell_type": "markdown",
   "id": "679c3b37",
   "metadata": {},
   "source": [
    "## Kinetic modeling and parameter estimation"
   ]
  },
  {
   "cell_type": "markdown",
   "id": "functioning-hormone",
   "metadata": {},
   "source": [
    "#### Functions that are needed in order to perform curve fitting"
   ]
  },
  {
   "cell_type": "markdown",
   "id": "b27a0f15",
   "metadata": {},
   "source": [
    "Execute this cell"
   ]
  },
  {
   "cell_type": "code",
   "execution_count": 359,
   "id": "laden-brain",
   "metadata": {},
   "outputs": [],
   "source": [
    "# Integrate the values to fit the data to cocentration over time\n",
    "def g(t, w0, params):\n",
    "    '''\n",
    "    Solution to the ODE w'(t)=f(t,w,p) with initial condition w(0)= w0 (= [S0])\n",
    "    '''\n",
    "    w = odeint(model, w0, t, args=(params,))\n",
    "    return w\n",
    "\n",
    "\n",
    "# Compute residual between actual data (S) and fitted data, if data array has more than one dimension\n",
    "def residual(params, t, measurement_data):\n",
    "    \n",
    "    ndata, nt = measurement_data.shape    # Get dimensions of data \n",
    "    resid = 0.0 * measurement_data[:]     # Initialize the residual vector\n",
    "    \n",
    "    # Compute residual per data set\n",
    "    for i in range(ndata):\n",
    "        \n",
    "        w0 = measurement_data[i,0]\n",
    "        model = g(t, w0, params) # Solve the ODE with the given parameters\n",
    "        \n",
    "        # Get modeled substrate data\n",
    "        s_model = model[:,0]\n",
    "        resid[i,:]=measurement_data[i,:]-s_model # Compute distance to measured data\n",
    "        \n",
    "    return resid.flatten() # Return residuals\n",
    "\n",
    "\n",
    "# This function gets called for residual calculation, if data array is one dimensional\n",
    "def residual_single(params, t, measurement_data):\n",
    "    \n",
    "    w0 = measurement_data[0] # First value of measurement\n",
    "    model = g(t, w0, params) # g -> solving ODE \n",
    "    \n",
    "    s_model = model[:,0] # 0th column\n",
    "    \n",
    "    return (s_model - measurement_data).ravel() # Return residuals\n",
    "\n",
    "\n",
    "# Perform modeling\n",
    "def perform_modeling(measurement_data, time, params):\n",
    "    if len(measurement_data.shape)>1:\n",
    "        result = minimize(residual, params, args=(time, measurement_data), method='leastsq')\n",
    "        report_fit(result) # access values of fitted parameters: result.params['Km'].value\n",
    "        # plot the data sets and fits\n",
    "        plt.figure()\n",
    "        for i in range(measurement_data.shape[0]):\n",
    "            plt.plot(time, measurement_data[i, :], 'o')\n",
    "            #w0 = params['v0'].value, data_s[i,0]\n",
    "            w0 = measurement_data[i,0]\n",
    "            data_fitted = g(time, w0, result.params)\n",
    "            plt.plot(time, data_fitted[:, 0], '-', linewidth=2, label='fitted data')\n",
    "        plt.show()\n",
    "    \n",
    "    else:\n",
    "        result = minimize(residual_single , params, args=(time, measurement_data), method='leastsq')\n",
    "        report_fit(result) # access values of fitted parameters: result.params['Km'].value\n",
    "        # plot the data sets and fits\n",
    "        plt.figure()\n",
    "        plt.plot(time, measurement_data[:], 'o')\n",
    "        w0 = measurement_data[0]\n",
    "        data_fitted = g(time, w0, result.params)\n",
    "        plt.plot(time, data_fitted[:, 0], '-', linewidth=2, label='fitted data')\n",
    "        plt.show()"
   ]
  },
  {
   "cell_type": "markdown",
   "id": "cc9cef2d",
   "metadata": {},
   "source": [
    "In order to model the data and perform parameter fitting, the kinetic equation for the model is defined as a Python function, along with a function to calculate the residual between the model and the measured data. <br>\n",
    "<br>\n",
    "In this case it is the Michaelis-Menten equation for one substrate"
   ]
  },
  {
   "cell_type": "code",
   "execution_count": null,
   "id": "selective-chapel",
   "metadata": {},
   "outputs": [],
   "source": [
    "def model(w, t, params):\n",
    "    '''\n",
    "    Differential equations\n",
    "    Arguments:\n",
    "        w: vector of state variables, here only one: w = [S]\n",
    "        t: time\n",
    "        params: parameters\n",
    "    '''\n",
    "    \n",
    "    # Specify all parameters here in that form \n",
    "    s = w                       # Initial concentration \n",
    "    vmax = params['vmax'].value # Initial value of 'vmax'\n",
    "    km = params['Km'].value     # Initial value of 'Km'\n",
    "    \n",
    "    f = -vmax * s / (km + s)    # Specify model here\n",
    "    return f"
   ]
  },
  {
   "cell_type": "markdown",
   "id": "victorian-sally",
   "metadata": {},
   "source": [
    "#### Fit model and visualize results\n",
    "Statistics for the Fit and the parameters are printed. <br>\n",
    "In the graph the red line shows the result of the model. <br>\n",
    "The dotted curves are the measured data sets."
   ]
  },
  {
   "cell_type": "code",
   "execution_count": null,
   "id": "b1772119",
   "metadata": {},
   "outputs": [],
   "source": [
    "# Initialize parameters\n",
    "params = Parameters() # Initialize a Parameters object from lmfit\n",
    "params.add(name='vmax', value=3, min=0.0001, max=100.) # Add a parameter to the Parameters object\n",
    "params.add(name='Km', value=2, min=0.01, max=20) # Add another parameter to the Parameters object\n",
    "'''\n",
    "name = name of parameter\n",
    "value = initial value of parameter\n",
    "min = minimal value of parameter when fit is performed\n",
    "max = maximal value of parameter when fit is performed\n",
    "vary = False if parameter is constant, Standard -> True\n",
    "'''\n",
    "\n",
    "# Perform modeling\n",
    "perform_modeling(measurement_data, time, params)"
   ]
  },
  {
   "cell_type": "markdown",
   "id": "54a62a7f",
   "metadata": {},
   "source": [
    "## Additional information"
   ]
  },
  {
   "cell_type": "markdown",
   "id": "0b73c2a4",
   "metadata": {},
   "source": [
    "### Pretty print"
   ]
  },
  {
   "cell_type": "markdown",
   "id": "193516a1",
   "metadata": {},
   "source": [
    "If pretty printing the experiment is necessary "
   ]
  },
  {
   "cell_type": "code",
   "execution_count": null,
   "id": "8e5707fe",
   "metadata": {},
   "outputs": [],
   "source": [
    "plt.scatter(time, measurement_data, label='Some measurement') # Declare the data that should be plotted\n",
    "plt.xlabel('Time [min]') # Set a x-axis label\n",
    "plt.ylabel('Concentration [mmole / l]') # Set a y-axis label\n",
    "plt.title('Some title', fontsize=15) # Set a title with specific fontsize\n",
    "plt.legend(loc='center left', bbox_to_anchor=(1, 0.5)) # A legend outside the plot. Label is shown in legend\n",
    "plt.show() # Print the plot"
   ]
  },
  {
   "cell_type": "markdown",
   "id": "ef9859dd",
   "metadata": {},
   "source": [
    "### Get meta information"
   ]
  },
  {
   "cell_type": "code",
   "execution_count": null,
   "id": "182ec5ab",
   "metadata": {},
   "outputs": [],
   "source": [
    "enzmldoc.measurement_dict # Get information from measurement"
   ]
  },
  {
   "cell_type": "code",
   "execution_count": null,
   "id": "e4e23718",
   "metadata": {},
   "outputs": [],
   "source": [
    "enzmldoc.reaction_dict # Get information from reaction"
   ]
  },
  {
   "cell_type": "code",
   "execution_count": null,
   "id": "ff804270",
   "metadata": {},
   "outputs": [],
   "source": [
    "enzmldoc.reactant_dict # Get information from reactants"
   ]
  }
 ],
 "metadata": {
  "kernelspec": {
   "display_name": "Python 3.9.13 ('EnzymeML')",
   "language": "python",
   "name": "python3"
  },
  "language_info": {
   "codemirror_mode": {
    "name": "ipython",
    "version": 3
   },
   "file_extension": ".py",
   "mimetype": "text/x-python",
   "name": "python",
   "nbconvert_exporter": "python",
   "pygments_lexer": "ipython3",
   "version": "3.9.13"
  },
  "vscode": {
   "interpreter": {
    "hash": "5d50be1a170728411b05e0f5e1b0614611e1e272a85bf517cd8fb18a1c0f8555"
   }
  }
 },
 "nbformat": 4,
 "nbformat_minor": 5
}
