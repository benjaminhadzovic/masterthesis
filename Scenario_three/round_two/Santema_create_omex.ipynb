{
 "cells": [
  {
   "cell_type": "markdown",
   "metadata": {},
   "source": [
    "## Raw data from Lars Santema"
   ]
  },
  {
   "cell_type": "markdown",
   "metadata": {},
   "source": [
    "There is a device that measured oxygen concentration and first we have to extract the necessary information out of the csv files"
   ]
  },
  {
   "cell_type": "code",
   "execution_count": 1,
   "metadata": {},
   "outputs": [],
   "source": [
    "import csv\n",
    "import pyenzyme as pe"
   ]
  },
  {
   "cell_type": "code",
   "execution_count": 65,
   "metadata": {},
   "outputs": [],
   "source": [
    "def export_raw_data(csv_path):\n",
    "    with open(csv_path) as csvfile:\n",
    "        csv_file = csv.reader(csvfile, delimiter=',')\n",
    "        check = 0\n",
    "        time = []\n",
    "        oxygen_conc = []\n",
    "        oxygen_rate = []\n",
    "        for row in csv_file:\n",
    "            if not row:\n",
    "                check = 0\n",
    "            elif row[0] == \"Time\":\n",
    "                check = 1\n",
    "            elif check == 1:\n",
    "                time.append(float(row[0]))\n",
    "                oxygen_conc.append(float(row[1]))\n",
    "                if row[2] == \"INVALID\":\n",
    "                    row[2] = 0\n",
    "                oxygen_rate.append(float(row[2]))\n",
    "        return time, oxygen_conc, oxygen_rate"
   ]
  },
  {
   "cell_type": "code",
   "execution_count": 66,
   "metadata": {},
   "outputs": [],
   "source": [
    "path = './0.5mM NAG + 0.05mM NAGOX 1.csv'\n",
    "time, oxygen_conc, oxygen_rate = export_raw_data(path)"
   ]
  },
  {
   "cell_type": "code",
   "execution_count": 100,
   "metadata": {},
   "outputs": [],
   "source": [
    "def create_EnzymeML(name, time, oxygen_conc, oxygen_rate, init_conc_glucosamine, init_conc_e):\n",
    "    enzmldoc = pe.EnzymeMLDocument(name = name)\n",
    "\n",
    "    # Create a vessel and add it to the document\n",
    "    vessel = pe.Vessel(name=\"Oxygraph chamber\", volume=1.0, unit=\"ml\")\n",
    "    vessel_id = enzmldoc.addVessel(vessel)\n",
    "\n",
    "    # Set up reactants and proteins from databases\n",
    "    enzyme = pe.Protein(name=\"N-acetylglucosamine oxidase (NagOx)\", vessel_id=vessel_id)\n",
    "    enzyme_id = enzmldoc.addProtein(enzyme)\n",
    "\n",
    "    oxygen = pe.Reactant(name=\"Oxygen\", vessel_id=vessel_id, unit=\"nmole / l\")\n",
    "    oxygen_id = enzmldoc.addReactant(oxygen)\n",
    "\n",
    "    glucosamine = pe.Reactant(name=\"N-acetyl-D-glucosamine\", vessel_id=vessel_id, unit=\"mmole / l\")\n",
    "    glucosamine_id = enzmldoc.addReactant(glucosamine)\n",
    "\n",
    "    h2o2 = pe.Reactant(name=\"Hydrogen peroxide\", vessel_id=vessel_id)\n",
    "    h2o2_id = enzmldoc.addReactant(h2o2)\n",
    "\n",
    "    lactone = pe.Reactant(name=\"N-acetyl-D-glucosaminolactone\", vessel_id=vessel_id)\n",
    "    lactone_id = enzmldoc.addReactant(lactone)\n",
    "\n",
    "    # Build the reaction\n",
    "    \n",
    "    reaction = pe.EnzymeReaction.fromEquation(\n",
    "        equation=\"Oxygen + N-acetyl-D-glucosamine -> N-acetyl-D-glucosaminolactone + Hydrogen peroxide\",\n",
    "        ph=7.5,\n",
    "        temperature=25,\n",
    "        temperature_unit=\"C\",\n",
    "        modifiers=[enzyme_id],\n",
    "        name=\"N-acetylglucosamine conversion\",\n",
    "        enzmldoc=enzmldoc\n",
    "    )\n",
    "\n",
    "    reaction.addEduct(species_id=oxygen_id, stoichiometry=1.0, enzmldoc=enzmldoc)\n",
    "    reaction.addEduct(species_id=glucosamine_id, stoichiometry=1.0, enzmldoc=enzmldoc)\n",
    "    reaction.addProduct(species_id=h2o2_id, stoichiometry=1.0, enzmldoc=enzmldoc)\n",
    "    reaction.addProduct(species_id=lactone_id, stoichiometry=1.0, enzmldoc=enzmldoc)\n",
    "\n",
    "    # ... and add it to the document\n",
    "    reaction_id = enzmldoc.addReaction(reaction)\n",
    "\n",
    "    # First Measurement\n",
    "    measurement_1 = pe.Measurement(name=\"Measurement\", global_time_unit=\"mins\")\n",
    "\n",
    "    # Add each entity that will be measured\n",
    "    measurement_1.addData(reactant_id=oxygen_id, init_conc=oxygen_conc[0], unit=\"nmole / l\")\n",
    "    measurement_1.addData(reactant_id=glucosamine_id, init_conc=init_conc_glucosamine, unit=\"mmole / l\")\n",
    "    measurement_1.addData(reactant_id=h2o2_id, unit=\"mmole / l\")\n",
    "    measurement_1.addData(reactant_id=lactone_id, unit=\"mmole / l\")\n",
    "    measurement_1.addData(protein_id=enzyme_id, init_conc=init_conc_e, unit=\"mmole / l\")\n",
    "\n",
    "    # Add it to the EnzymeML document\n",
    "    meas_1_id = enzmldoc.addMeasurement(measurement_1)\n",
    "\n",
    "    # Adding raw data \n",
    "    repl_oxygen_conc = pe.Replicate(\n",
    "        id=\"oxygen_conc\",\n",
    "        species_id=oxygen_id,\n",
    "        data_unit=\"nmole / l\",\n",
    "        time_unit=\"s\",\n",
    "        time=time,\n",
    "        data=oxygen_conc\n",
    "    )\n",
    "\n",
    "    # Add it to the first measurement\n",
    "    meas = enzmldoc.getMeasurement(meas_1_id)\n",
    "    meas.addReplicates([repl_oxygen_conc], enzmldoc=enzmldoc)\n",
    "\n",
    "    # Adding the Model\n",
    "\n",
    "    model_generator = pe.KineticModel.createGenerator(\n",
    "        name= \"irreversible Michaelis-Menten\",\n",
    "        equation= \"vmax * substrate / (Km + substrate)\",\n",
    "        #substrate=substrate_id,\n",
    "        vmax={\"unit\": \"mole / l * s\"}, \n",
    "        Km={\"unit\": \"mmole / l\"}\n",
    "    )\n",
    "\n",
    "    model = model_generator(substrate=oxygen_id)\n",
    "\n",
    "    reaction.model = model\n",
    "\n",
    "    # To an OMEX archive\n",
    "    enzmldoc.toFile(\".\", name=name)"
   ]
  },
  {
   "cell_type": "code",
   "execution_count": 101,
   "metadata": {},
   "outputs": [
    {
     "name": "stdout",
     "output_type": "stream",
     "text": [
      "\n",
      "Archive was written to ./0.5mM_NAG_0.05mM_NAGOX.omex\n",
      "\n"
     ]
    }
   ],
   "source": [
    "# name, time, oxygen_conc, oxygen_rate, init_conc_glucosamine, init_conc_e\n",
    "create_EnzymeML(\"0.5mM_NAG_0.05mM_NAGOX\", time, oxygen_conc, oxygen_rate, 0.5, 0.05)"
   ]
  }
 ],
 "metadata": {
  "kernelspec": {
   "display_name": "Python 3.9.13",
   "language": "python",
   "name": "python3"
  },
  "language_info": {
   "codemirror_mode": {
    "name": "ipython",
    "version": 3
   },
   "file_extension": ".py",
   "mimetype": "text/x-python",
   "name": "python",
   "nbconvert_exporter": "python",
   "pygments_lexer": "ipython3",
   "version": "3.9.13"
  },
  "orig_nbformat": 4,
  "vscode": {
   "interpreter": {
    "hash": "5d50be1a170728411b05e0f5e1b0614611e1e272a85bf517cd8fb18a1c0f8555"
   }
  }
 },
 "nbformat": 4,
 "nbformat_minor": 2
}
